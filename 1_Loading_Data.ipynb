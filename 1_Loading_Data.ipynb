{
 "cells": [
  {
   "attachments": {},
   "cell_type": "markdown",
   "metadata": {},
   "source": [
    "## Introduction to Data Science Project ##\n",
    "\n",
    "### Data Loading ###\n",
    "\n",
    "This first part of the code will be about loading the data and constructing the features to later train our models.\n",
    "\n",
    "We are working with Statsbomb Open Data 360, which is integrated in the mplsoccer python library. This data is event stream data, that includes the positions of all other players on the pitch at the time of any action."
   ]
  },
  {
   "cell_type": "code",
   "execution_count": 1,
   "metadata": {},
   "outputs": [
    {
     "name": "stdout",
     "output_type": "stream",
     "text": [
      "   competition_name season_name  competition_id  season_id\n",
      "69        UEFA Euro        2020              55         43\n"
     ]
    }
   ],
   "source": [
    "from mplsoccer import Sbopen\n",
    "import pandas as pd\n",
    "import numpy as np\n",
    "\n",
    "parser = Sbopen()\n",
    "df_competition = parser.competition()\n",
    "competitions360 = df_competition[\n",
    "    (df_competition['match_available_360'].notna()) & \n",
    "    (df_competition[\"competition_name\"].isin([\"UEFA Euro\"])) & \n",
    "    (df_competition[\"season_name\"].isin([\"2020\"]))\n",
    "] #.isin([\"1. Bundesliga\", \"FIFA World Cup\", \"UEFA Euro\"]))]\n",
    "print(competitions360[['competition_name', 'season_name', 'competition_id', 'season_id']])"
   ]
  },
  {
   "attachments": {},
   "cell_type": "markdown",
   "metadata": {},
   "source": [
    "Now all matches from the selected competitions are concatenated into one data frame."
   ]
  },
  {
   "cell_type": "code",
   "execution_count": 2,
   "metadata": {},
   "outputs": [
    {
     "name": "stdout",
     "output_type": "stream",
     "text": [
      "51\n"
     ]
    }
   ],
   "source": [
    "matches_360_list = []\n",
    "\n",
    "for _, row in competitions360.iterrows():\n",
    "    comp_id = row['competition_id']\n",
    "    season_id = row['season_id']\n",
    "    \n",
    "    df_matches = parser.match(competition_id=comp_id, season_id=season_id)\n",
    "    matches_360_list.append(df_matches)\n",
    "\n",
    "all_matches_360 = pd.concat(matches_360_list, ignore_index=True)\n",
    "\n",
    "print(len(all_matches_360))"
   ]
  },
  {
   "attachments": {},
   "cell_type": "markdown",
   "metadata": {},
   "source": [
    "And then all events from the selected matches are also concatenated into one data frame."
   ]
  },
  {
   "cell_type": "code",
   "execution_count": 3,
   "metadata": {},
   "outputs": [],
   "source": [
    "all_events = pd.DataFrame()\n",
    "\n",
    "for _, row in competitions360.iterrows():\n",
    "    comp_id = row['competition_id']\n",
    "    season_id = row['season_id']\n",
    "    \n",
    "    try:\n",
    "        df_matches = parser.match(competition_id=comp_id, season_id=season_id)\n",
    "        \n",
    "        for match_id in df_matches['match_id']: \n",
    "            try:\n",
    "                df_event, _, _, _ = parser.event(match_id)\n",
    "                df_event['match_id'] = match_id  \n",
    "                df_event['competition_name'] = row['competition_name']\n",
    "                df_event['season_name'] = row['season_name']\n",
    "\n",
    "                all_events = pd.concat([all_events, df_event], ignore_index=True)\n",
    "            except Exception as e:\n",
    "                print(f\"Skipping match {match_id}: {e}\")\n",
    "                \n",
    "    except Exception as e:\n",
    "        print(f\"Error retrieving matches for competition {comp_id}, season {season_id}: {e}\")"
   ]
  },
  {
   "attachments": {},
   "cell_type": "markdown",
   "metadata": {},
   "source": [
    "### Data Cleaning ###\n",
    "\n",
    "For the sake of simplicity we will exclude some action types from the data. This could be because they are off-ball actions, they are not relevant to the model, they are very rare or they are already captured by the model. In particular we will neglect goal keeper and defensive actions since those are primarily off-ball and cannot really be captured by our data.\n",
    "\n",
    "Also we will exclude penalty shootouts from the model, these are denoted with period = 5."
   ]
  },
  {
   "cell_type": "code",
   "execution_count": 4,
   "metadata": {},
   "outputs": [],
   "source": [
    "relevant_events = ['Pass', 'Carry', 'Shot', 'Clearance', 'Dribble', 'Duel', 'Foul Committed', 'Interception',\n",
    "                   'Miscontrol', 'Ball Recovery', 'Own Goal Against']\n",
    "\n",
    "all_events = all_events[all_events['type_name'].isin(relevant_events)]\n",
    "all_events = all_events[~((all_events['type_name'] == \"Duel\") & (all_events['sub_type_name'] != \"Tackle\"))]\n",
    "all_events = all_events[all_events['period'] != 5]\n",
    "\n",
    "def parse_action_row(row):\n",
    "    type_name = row.get(\"type_name\", \"\")\n",
    "    outcome = row.get(\"outcome_name\", \"\")\n",
    "    body_part_name = row.get(\"body_part_name\", \"\")\n",
    "\n",
    "    if body_part_name in [\"Right Foot\", \"Left Foot\"]:\n",
    "        body_part_name = \"Foot\"\n",
    "    elif body_part_name == \"Head\":\n",
    "        body_part_name = \"Head\"\n",
    "    else:\n",
    "        body_part_name = \"Other\"\n",
    "    \n",
    "    # Defaults\n",
    "    action_type = \"non_action\"\n",
    "    result = \"success\"\n",
    "\n",
    "    if type_name == \"Pass\":\n",
    "        cross = False\n",
    "        if row.get(\"pass_cross\", False) == np.nan:\n",
    "            cross = True\n",
    "        height = row.get(\"pass_height_name\", \"\")\n",
    "        subtype = row.get(\"sub_type_name\", \"\")\n",
    "\n",
    "        if subtype == \"Free Kick\":\n",
    "            action_type = \"Free Kick Pass\"\n",
    "        elif subtype == \"Corner\":\n",
    "            action_type = \"Corner\"\n",
    "        elif subtype == \"Goal Kick\":\n",
    "            action_type = \"Goal Kick\"\n",
    "        elif subtype == \"Throw-in\":\n",
    "            action_type = \"Throw In\"\n",
    "        elif cross:\n",
    "            action_type = \"Cross\"\n",
    "        else:\n",
    "            action_type = \"Pass\"\n",
    "\n",
    "        if outcome in [\"Incomplete\", \"Out\"]:\n",
    "            result = \"fail\"\n",
    "        elif outcome == \"Pass Offside\":\n",
    "            result = \"offside\"\n",
    "\n",
    "    elif type_name == \"Shot\":\n",
    "        subtype = row.get(\"sub_type_name\", \"\")\n",
    "        if subtype == \"Free Kick\":\n",
    "            action_type = \"Free Kick Shot\"\n",
    "        elif subtype == \"Penalty\":\n",
    "            action_type = \"Penalty Shot\"\n",
    "        else:\n",
    "            action_type = \"Shot\"\n",
    "\n",
    "        result = \"success\" if outcome == \"Goal\" else \"fail\"\n",
    "\n",
    "    elif type_name == \"Dribble\":\n",
    "        action_type = \"Carry\"\n",
    "        result = \"fail\" if outcome == \"Incomplete\" else \"success\"\n",
    "\n",
    "    elif type_name == \"Carry\":\n",
    "        action_type = \"Carry\"\n",
    "        result = \"success\"\n",
    "\n",
    "    elif type_name == \"Foul Committed\":\n",
    "        action_type = \"Foul\"\n",
    "        result = \"fail\"\n",
    "\n",
    "    elif type_name == \"Duel\":\n",
    "        action_type = \"Tackle\"\n",
    "        result = \"fail\" if outcome in [\"Lost In Play\", \"Lost Out\"] else \"success\"\n",
    "\n",
    "    elif type_name == \"Interception\":\n",
    "        action_type = \"Interception\"\n",
    "        result = \"fail\" if outcome in [\"Lost In Play\", \"Lost Out\"] else \"success\"\n",
    "\n",
    "    elif type_name == \"Own Goal Against\":\n",
    "        action_type = \"Own Goal\"\n",
    "        result = \"owngoal\"\n",
    "\n",
    "    elif type_name == \"Clearance\":\n",
    "        action_type = \"Clearance\"\n",
    "        result = \"success\"\n",
    "\n",
    "    elif type_name == \"Miscontrol\":\n",
    "        action_type = \"Miscontrol\"\n",
    "        result = \"fail\"\n",
    "    \n",
    "    elif type_name == \"Ball Recovery\":\n",
    "        action_type = \"Ball Recovery\"\n",
    "        result = \"fail\" if row.get(\"ball_recovery_recovery_failure\") == True else \"success\"\n",
    "\n",
    "    return pd.Series([action_type, result, body_part_name])\n",
    "\n",
    "all_events_cleaned = all_events\n",
    "all_events_cleaned[[\"action_type\", \"result\", \"body_part_name\"]] = all_events_cleaned.apply(parse_action_row, axis=1)"
   ]
  },
  {
   "attachments": {},
   "cell_type": "markdown",
   "metadata": {},
   "source": [
    "### Feature Construction ###\n",
    "\n",
    "As the initial features we add distance to goal, angle to goal and time elapsed to every game state.\n",
    "\n",
    "Note: The data is already normalized such that the attacking team will always attack from x = 0 to x = 120, so the distance to goal can be calculated the same for both teams regardless of possession changes. Also the x and y dimensions of the pitch (as well as individual player positions) are already normalized to x = [0, 120] and y = [0, 80] to deal with different pitch dimensions in football. The goal size is set to 7.32m."
   ]
  },
  {
   "cell_type": "code",
   "execution_count": 5,
   "metadata": {},
   "outputs": [],
   "source": [
    "GOAL_X = 120\n",
    "GOAL_Y = 40\n",
    "LEFT_POST = 43.66\n",
    "RIGHT_POST = 36.34\n",
    "\n",
    "def calculate_distance_to_goal(df_event):\n",
    "    \n",
    "    df_event['distance_to_goal'] = np.sqrt((df_event['x'] - GOAL_X)**2 + (df_event['y'] - GOAL_Y)**2)\n",
    "    \n",
    "    return df_event\n",
    "\n",
    "def calculate_angle_to_goal(df_event):\n",
    "\n",
    "    dx = GOAL_X - df_event['x']\n",
    "    dy1 = LEFT_POST - df_event['y']\n",
    "    dy2 = RIGHT_POST - df_event['y']\n",
    "\n",
    "    angle = np.degrees(np.abs(np.arctan2(dy1, dx) - np.arctan2(dy2, dx)))\n",
    "    df_event['angle_to_goal'] = angle\n",
    "\n",
    "    return df_event\n",
    "\n",
    "def calculate_time_elapsed(df_event):\n",
    "\n",
    "    minute = df_event['minute']\n",
    "    second = df_event['second']\n",
    "\n",
    "    df_event['time_elapsed'] = minute * 60 + second\n",
    "\n",
    "    return df_event\n",
    "\n",
    "all_events_cleaned = (\n",
    "    all_events_cleaned\n",
    "    .pipe(calculate_distance_to_goal)\n",
    "    .pipe(calculate_angle_to_goal)\n",
    "    .pipe(calculate_time_elapsed)\n",
    ")"
   ]
  },
  {
   "attachments": {},
   "cell_type": "markdown",
   "metadata": {},
   "source": [
    "### Target Label Construction ###\n",
    "\n",
    "Now we will search all goals in the match and for the previous k = 10 actions we will assign a value of 1 to label_team_goal if the team that scored a goal was in possession at the game state or a label of 1 to label_opponent_goal if the opponent team was in possession at the game state. All other game states will have a default value of 0."
   ]
  },
  {
   "cell_type": "code",
   "execution_count": 6,
   "metadata": {},
   "outputs": [],
   "source": [
    "def assign_goal_labels(df_all_events, lookback=10):\n",
    "    df_all_events = df_all_events.copy()\n",
    "    df_all_events['label_team_goal'] = 0\n",
    "    df_all_events['label_opponent_goal'] = 0\n",
    "\n",
    "    grouped = df_all_events.groupby(['match_id', 'period'])\n",
    "\n",
    "    for match_id, df_match in grouped:\n",
    "        match_indices = df_match.index.to_list()\n",
    "\n",
    "        for i, global_idx in enumerate(match_indices):\n",
    "            if df_all_events.loc[global_idx, 'outcome_name'] == 'Goal':\n",
    "                scoring_team = df_all_events.loc[global_idx, 'team_id']\n",
    "\n",
    "                for j in range(max(0, i - lookback + 1), i + 1):\n",
    "                    event_idx = match_indices[j]\n",
    "                    acting_team = df_all_events.loc[event_idx, 'team_id']\n",
    "\n",
    "                    if acting_team == scoring_team:\n",
    "                        df_all_events.at[event_idx, 'label_team_goal'] = 1\n",
    "                    else:\n",
    "                        df_all_events.at[event_idx, 'label_opponent_goal'] = 1\n",
    "\n",
    "    return df_all_events\n",
    "\n",
    "all_events_cleaned = assign_goal_labels(all_events_cleaned)\n",
    "all_events_cleaned.to_csv(\"data_cleaned.csv\")"
   ]
  }
 ],
 "metadata": {
  "kernelspec": {
   "display_name": "Python 3",
   "language": "python",
   "name": "python3"
  },
  "language_info": {
   "codemirror_mode": {
    "name": "ipython",
    "version": 3
   },
   "file_extension": ".py",
   "mimetype": "text/x-python",
   "name": "python",
   "nbconvert_exporter": "python",
   "pygments_lexer": "ipython3",
   "version": "3.12.4"
  },
  "orig_nbformat": 4
 },
 "nbformat": 4,
 "nbformat_minor": 2
}
