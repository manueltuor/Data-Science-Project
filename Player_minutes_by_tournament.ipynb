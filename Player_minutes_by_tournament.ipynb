{
 "cells": [
  {
   "cell_type": "markdown",
   "metadata": {},
   "source": [
    "# Calculate playing time by tournament"
   ]
  },
  {
   "cell_type": "markdown",
   "metadata": {},
   "source": [
    "Use the same code as before in the \"Loading_Data\"-Notebook to load the available data."
   ]
  },
  {
   "cell_type": "code",
   "execution_count": 4,
   "metadata": {},
   "outputs": [
    {
     "name": "stdout",
     "output_type": "stream",
     "text": [
      "   competition_name season_name  competition_id  season_id\n",
      "0     1. Bundesliga   2023/2024               9        281\n",
      "29   FIFA World Cup        2022              43        106\n",
      "68        UEFA Euro        2024              55        282\n",
      "69        UEFA Euro        2020              55         43\n"
     ]
    }
   ],
   "source": [
    "from mplsoccer import Sbopen\n",
    "import pandas as pd\n",
    "import numpy as np\n",
    "\n",
    "parser = Sbopen()\n",
    "df_competition = parser.competition()\n",
    "competitions360 = df_competition[\n",
    "    (df_competition['match_available_360'].notna()) & \n",
    "    (df_competition[\"competition_name\"].isin([\"1. Bundesliga\", \"FIFA World Cup\", \"UEFA Euro\"])) \n",
    "]\n",
    "print(competitions360[['competition_name', 'season_name', 'competition_id', 'season_id']])"
   ]
  },
  {
   "cell_type": "code",
   "execution_count": 6,
   "metadata": {},
   "outputs": [
    {
     "name": "stdout",
     "output_type": "stream",
     "text": [
      "200\n"
     ]
    }
   ],
   "source": [
    "matches_360_list = []\n",
    "\n",
    "for _, row in competitions360.iterrows():\n",
    "    comp_id = row['competition_id']\n",
    "    season_id = row['season_id']\n",
    "    \n",
    "    df_matches = parser.match(competition_id=comp_id, season_id=season_id)\n",
    "    matches_360_list.append(df_matches)\n",
    "\n",
    "all_matches_360 = pd.concat(matches_360_list, ignore_index=True)\n",
    "\n",
    "print(len(all_matches_360))\n",
    "\n"
   ]
  },
  {
   "cell_type": "markdown",
   "metadata": {},
   "source": [
    "Now calculate the exact minutes each player played per seasoon/tournament, based on starting line-up and substitutions."
   ]
  },
  {
   "cell_type": "code",
   "execution_count": 7,
   "metadata": {},
   "outputs": [
    {
     "name": "stdout",
     "output_type": "stream",
     "text": [
      "     competition_name season_name  player_id                 player_name     player_nickname         team_name  minutes_played\n",
      "86      1. Bundesliga   2023/2024       8667              Lukáš Hrádecký      Lukáš Hrádecký  Bayer Leverkusen          3110.0\n",
      "7       1. Bundesliga   2023/2024       3500                Granit Xhaka        Granit Xhaka  Bayer Leverkusen          2934.0\n",
      "141     1. Bundesliga   2023/2024      10336   Alejandro Grimaldo García       Álex Grimaldo  Bayer Leverkusen          2899.0\n",
      "47      1. Bundesliga   2023/2024       8221                Jonathan Tah        Jonathan Tah  Bayer Leverkusen          2748.0\n",
      "294     1. Bundesliga   2023/2024      40724               Florian Wirtz       Florian Wirtz  Bayer Leverkusen          2442.0\n",
      "...               ...         ...        ...                         ...                 ...               ...             ...\n",
      "1987        UEFA Euro        2024      49445  Michael Ijemuan Folorunsho  Michael Folorunsho             Italy             4.0\n",
      "1568        UEFA Euro        2024       3311                 Daley Blind         Daley Blind       Netherlands             3.0\n",
      "1834        UEFA Euro        2024      21880               Brian Brobbey       Brian Brobbey       Netherlands             3.0\n",
      "1655        UEFA Euro        2024       6941               Jasmin Kurtič       Jasmin Kurtič          Slovenia             1.0\n",
      "1776        UEFA Euro        2024      12326              Renato Steffen      Renato Steffen       Switzerland             1.0\n",
      "\n",
      "[2040 rows x 7 columns]\n"
     ]
    }
   ],
   "source": [
    "# Loop over all matches to get events and lineups\n",
    "minutes_played_list = []\n",
    "\n",
    "for match_id in all_matches_360['match_id']:\n",
    "    # Load event and lineup data\n",
    "    events, related, freeze, tactics = parser.event(match_id)\n",
    "    lineup = parser.lineup(match_id)\n",
    "\n",
    "    # Match info: competition and season\n",
    "    match_row = all_matches_360[all_matches_360['match_id'] == match_id].iloc[0]\n",
    "    competition_name = match_row['competition_name']\n",
    "    season_name = match_row['season_name']\n",
    "\n",
    "    # Get the real match maximum minute\n",
    "    match_max_minute = events['minute'].max()\n",
    "    if pd.isna(match_max_minute):\n",
    "        match_max_minute = 90\n",
    "\n",
    "    # Get substitution times\n",
    "    time_off = events.loc[events.type_name == 'Substitution', ['player_id', 'minute']].rename(columns={'minute': 'off'})\n",
    "    time_on = events.loc[events.type_name == 'Substitution', ['substitution_replacement_id', 'minute']].rename(columns={'substitution_replacement_id': 'player_id', 'minute': 'on'})\n",
    "\n",
    "    # Merge substitution times onto lineup\n",
    "    lineup = lineup.merge(time_on, on='player_id', how='left')\n",
    "    lineup = lineup.merge(time_off, on='player_id', how='left')\n",
    "\n",
    "    # Find starting players\n",
    "    starting_ids = events[events.type_name == 'Starting XI'].id\n",
    "    starting_xi = tactics[tactics.id.isin(starting_ids)]\n",
    "    starting_players = starting_xi.player_id\n",
    "\n",
    "    # Filter players who played\n",
    "    mask_played = ((lineup.on.notnull()) | (lineup.off.notnull()) | (lineup.player_id.isin(starting_players)))\n",
    "    lineup = lineup[mask_played].copy()\n",
    "\n",
    "    # Calculate minutes played\n",
    "    lineup['minutes_played'] = np.where(\n",
    "        lineup['player_id'].isin(starting_players),\n",
    "        np.where(lineup['off'].notnull(), lineup['off'], match_max_minute),\n",
    "        np.where(lineup['on'].notnull(), match_max_minute - lineup['on'], 0)\n",
    "    )\n",
    "\n",
    "    # Adjust for players subbed on and subbed off\n",
    "    lineup['minutes_played'] = np.where(\n",
    "        (lineup['on'].notnull()) & (lineup['off'].notnull()),\n",
    "        lineup['off'] - lineup['on'],\n",
    "        lineup['minutes_played']\n",
    "    )\n",
    "\n",
    "    # Add match, competition, season info\n",
    "    lineup['match_id'] = match_id\n",
    "    lineup['competition_name'] = competition_name\n",
    "    lineup['season_name'] = season_name\n",
    "\n",
    "    # Save necessary columns\n",
    "    minutes_played_list.append(\n",
    "        lineup[['match_id', 'player_id', 'player_name', 'player_nickname', 'team_name', \n",
    "                'minutes_played', 'competition_name', 'season_name']]\n",
    "    )\n",
    "\n",
    "# Combine all matches\n",
    "all_minutes_played = pd.concat(minutes_played_list, ignore_index=True)\n",
    "\n",
    "# Group by competition, season, and player\n",
    "player_minutes = all_minutes_played.groupby(\n",
    "    ['competition_name', 'season_name', 'player_id', 'player_name', 'player_nickname', 'team_name'],\n",
    "    as_index=False\n",
    ")['minutes_played'].sum()\n",
    "\n",
    "# See result\n",
    "print(player_minutes.sort_values(['competition_name', 'season_name', 'minutes_played'], ascending=[True, True, False]))"
   ]
  }
 ],
 "metadata": {
  "language_info": {
   "name": "python"
  }
 },
 "nbformat": 4,
 "nbformat_minor": 2
}
