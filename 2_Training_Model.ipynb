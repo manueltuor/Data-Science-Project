{
 "cells": [
  {
   "attachments": {},
   "cell_type": "markdown",
   "metadata": {},
   "source": [
    "## Model Training ##\n",
    "\n",
    "The second part of our project is about training models to estimate scoring and conceding probabilities, and deriving the action values from those.\n",
    "\n",
    "First we will load the data. If you have not already you should run the 1_Loading_Data.ipynb file to retrieve the data and save it to a file, so that it can be loaded here."
   ]
  },
  {
   "cell_type": "code",
   "execution_count": 83,
   "metadata": {},
   "outputs": [],
   "source": [
    "import pandas as pd\n",
    "from xgboost import XGBClassifier\n",
    "import matplotlib.pyplot as plt\n",
    "from sklearn.linear_model import LogisticRegression\n",
    "from sklearn.model_selection import train_test_split\n",
    "from sklearn.metrics import classification_report, roc_auc_score\n",
    "\n",
    "df_model = pd.read_pickle(\"data/data_cleaned.pkl\")"
   ]
  },
  {
   "attachments": {},
   "cell_type": "markdown",
   "metadata": {},
   "source": [
    "### Encoding ###\n",
    "\n",
    "Some classification algorithms like logistic regression require us to encode categorical columns like action_type or body_part. So we will do this via one-hot encoding."
   ]
  },
  {
   "cell_type": "code",
   "execution_count": 84,
   "metadata": {},
   "outputs": [],
   "source": [
    "body_part_dummies = pd.get_dummies(df_model['body_part_name'], prefix='body_part_name')\n",
    "action_type_dummies = pd.get_dummies(df_model['action_type'], prefix='action_type')\n",
    "\n",
    "df_model = pd.concat([df_model, body_part_dummies, action_type_dummies], axis=1)"
   ]
  },
  {
   "attachments": {},
   "cell_type": "markdown",
   "metadata": {},
   "source": [
    "### Estimating Probabilities ###\n",
    "\n",
    "#### Logistic Regression ####\n",
    "\n",
    "Now we can train our first logistic regression model to try and predict the two labels based on our features."
   ]
  },
  {
   "cell_type": "code",
   "execution_count": 85,
   "metadata": {},
   "outputs": [
    {
     "name": "stdout",
     "output_type": "stream",
     "text": [
      "Classification Report:\n",
      "              precision    recall  f1-score   support\n",
      "\n",
      "           0       0.99      1.00      0.99     69831\n",
      "           1       0.50      0.01      0.01       729\n",
      "\n",
      "    accuracy                           0.99     70560\n",
      "   macro avg       0.74      0.50      0.50     70560\n",
      "weighted avg       0.98      0.99      0.98     70560\n",
      "\n",
      "ROC AUC Score: 0.7799255066106199\n",
      "                  Coefficient\n",
      "distance_to_goal    -0.037381\n",
      "angle_to_goal        0.037157\n",
      "time_elapsed         0.000080\n",
      "period               0.030149\n"
     ]
    },
    {
     "name": "stderr",
     "output_type": "stream",
     "text": [
      "/Library/Frameworks/Python.framework/Versions/3.12/lib/python3.12/site-packages/sklearn/linear_model/_logistic.py:465: ConvergenceWarning: lbfgs failed to converge (status=1):\n",
      "STOP: TOTAL NO. of ITERATIONS REACHED LIMIT.\n",
      "\n",
      "Increase the number of iterations (max_iter) or scale the data as shown in:\n",
      "    https://scikit-learn.org/stable/modules/preprocessing.html\n",
      "Please also refer to the documentation for alternative solver options:\n",
      "    https://scikit-learn.org/stable/modules/linear_model.html#logistic-regression\n",
      "  n_iter_i = _check_optimize_result(\n"
     ]
    }
   ],
   "source": [
    "features = ['distance_to_goal', 'angle_to_goal', 'time_elapsed', 'period']\n",
    "\n",
    "target = 'label_team_goal'\n",
    "\n",
    "df_model = df_model.dropna(subset=features + [target])\n",
    "\n",
    "X = df_model[features]\n",
    "y = df_model[target]\n",
    "\n",
    "X_train, X_test, y_train, y_test = train_test_split(X, y, test_size=0.5, stratify=y)\n",
    "\n",
    "model = LogisticRegression()\n",
    "model.fit(X_train, y_train)\n",
    "\n",
    "y_pred = model.predict(X_test)\n",
    "y_prob = model.predict_proba(X_test)[:, 1]\n",
    "\n",
    "print(\"Classification Report:\")\n",
    "print(classification_report(y_test, y_pred))\n",
    "\n",
    "print(\"ROC AUC Score:\", roc_auc_score(y_test, y_prob))\n",
    "\n",
    "y_prob_all = model.predict_proba(df_model[features])[:, 1]\n",
    "df_model = df_model.copy()\n",
    "df_model['predicted_goal_prob'] = y_prob_all\n",
    "\n",
    "coefficients = model.coef_[0]\n",
    "\n",
    "coeff_df = pd.DataFrame(coefficients, columns=[\"Coefficient\"], index=features)\n",
    "print(coeff_df)"
   ]
  },
  {
   "attachments": {},
   "cell_type": "markdown",
   "metadata": {},
   "source": [
    "And analogously the same for the conceding probabilities."
   ]
  },
  {
   "cell_type": "code",
   "execution_count": 86,
   "metadata": {},
   "outputs": [
    {
     "name": "stdout",
     "output_type": "stream",
     "text": [
      "Classification Report (Conceding Goals):\n",
      "              precision    recall  f1-score   support\n",
      "\n",
      "           0       1.00      1.00      1.00     70428\n",
      "           1       0.00      0.00      0.00       132\n",
      "\n",
      "    accuracy                           1.00     70560\n",
      "   macro avg       0.50      0.50      0.50     70560\n",
      "weighted avg       1.00      1.00      1.00     70560\n",
      "\n",
      "ROC AUC Score (Conceding Goals): 0.7033839416485523\n",
      "                  Coefficient\n",
      "distance_to_goal     0.028974\n",
      "angle_to_goal        0.019011\n",
      "time_elapsed         0.000094\n",
      "period              -0.045433\n"
     ]
    },
    {
     "name": "stderr",
     "output_type": "stream",
     "text": [
      "/Library/Frameworks/Python.framework/Versions/3.12/lib/python3.12/site-packages/sklearn/metrics/_classification.py:1565: UndefinedMetricWarning: Precision is ill-defined and being set to 0.0 in labels with no predicted samples. Use `zero_division` parameter to control this behavior.\n",
      "  _warn_prf(average, modifier, f\"{metric.capitalize()} is\", len(result))\n",
      "/Library/Frameworks/Python.framework/Versions/3.12/lib/python3.12/site-packages/sklearn/metrics/_classification.py:1565: UndefinedMetricWarning: Precision is ill-defined and being set to 0.0 in labels with no predicted samples. Use `zero_division` parameter to control this behavior.\n",
      "  _warn_prf(average, modifier, f\"{metric.capitalize()} is\", len(result))\n",
      "/Library/Frameworks/Python.framework/Versions/3.12/lib/python3.12/site-packages/sklearn/metrics/_classification.py:1565: UndefinedMetricWarning: Precision is ill-defined and being set to 0.0 in labels with no predicted samples. Use `zero_division` parameter to control this behavior.\n",
      "  _warn_prf(average, modifier, f\"{metric.capitalize()} is\", len(result))\n"
     ]
    }
   ],
   "source": [
    "target_opponent = 'label_opponent_goal'\n",
    "\n",
    "X_opp = df_model[features]\n",
    "y_opp = df_model[target_opponent]\n",
    "\n",
    "X_train_opp, X_test_opp, y_train_opp, y_test_opp = train_test_split(X_opp, y_opp, test_size=0.5, stratify=y_opp)\n",
    "\n",
    "model_opp = LogisticRegression()\n",
    "model_opp.fit(X_train_opp, y_train_opp)\n",
    "\n",
    "y_pred_opp = model_opp.predict(X_test_opp)\n",
    "y_prob_opp = model_opp.predict_proba(X_test_opp)[:, 1]\n",
    "\n",
    "print(\"Classification Report (Conceding Goals):\")\n",
    "print(classification_report(y_test_opp, y_pred_opp))\n",
    "\n",
    "print(\"ROC AUC Score (Conceding Goals):\", roc_auc_score(y_test_opp, y_prob_opp))\n",
    "\n",
    "y_prob_all_opp = model_opp.predict_proba(df_model[features])[:, 1]\n",
    "df_model = df_model.copy()\n",
    "df_model['predicted_concede_prob'] = y_prob_all_opp\n",
    "\n",
    "coefficients_opp = model_opp.coef_[0]\n",
    "coeff_opp_df = pd.DataFrame(coefficients_opp, index=features, columns=[\"Coefficient\"])\n",
    "print(coeff_opp_df)"
   ]
  },
  {
   "attachments": {},
   "cell_type": "markdown",
   "metadata": {},
   "source": [
    "#### XGBoost ####\n",
    "\n",
    "Since some of the features are non-linear, XGBoost will probably perform better."
   ]
  },
  {
   "cell_type": "code",
   "execution_count": 87,
   "metadata": {},
   "outputs": [
    {
     "name": "stdout",
     "output_type": "stream",
     "text": [
      "Classification Report:\n",
      "              precision    recall  f1-score   support\n",
      "\n",
      "           0       0.99      1.00      0.99     69831\n",
      "           1       1.00      0.01      0.01       729\n",
      "\n",
      "    accuracy                           0.99     70560\n",
      "   macro avg       0.99      0.50      0.50     70560\n",
      "weighted avg       0.99      0.99      0.98     70560\n",
      "\n",
      "ROC AUC Score: 0.8182000993619732\n"
     ]
    },
    {
     "data": {
      "image/png": "[encoded data removed]",
      "text/plain": [
       "<Figure size 1000x600 with 1 Axes>"
      ]
     },
     "metadata": {},
     "output_type": "display_data"
    }
   ],
   "source": [
    "features = ['distance_to_goal', 'angle_to_goal', 'time_elapsed', 'period',\n",
    "        'body_part_name_Foot', 'body_part_name_Head', 'body_part_name_Other',\n",
    "        'action_type_Ball Recovery', 'action_type_Carry',\n",
    "        'action_type_Clearance', 'action_type_Corner', 'action_type_Foul',\n",
    "        'action_type_Free Kick Pass', 'action_type_Free Kick Shot',\n",
    "        'action_type_Goal Kick', 'action_type_Interception',\n",
    "        'action_type_Miscontrol', 'action_type_Own Goal', 'action_type_Pass',\n",
    "        'action_type_Penalty Shot', 'action_type_Shot', 'action_type_Tackle',\n",
    "        'action_type_Throw In',]\n",
    "\n",
    "df_model = df_model.dropna(subset=features + [target])\n",
    "\n",
    "X = df_model[features]\n",
    "y = df_model[target]\n",
    "\n",
    "X_train, X_test, y_train, y_test = train_test_split(X, y, test_size=0.5, stratify=y)\n",
    "\n",
    "xgb_model = XGBClassifier(\n",
    "    n_estimators=100,\n",
    "    max_depth=3,\n",
    "    learning_rate=0.1,\n",
    "    eval_metric='logloss',\n",
    "    random_state=42\n",
    ")\n",
    "\n",
    "xgb_model.fit(X_train, y_train)\n",
    "\n",
    "y_pred = xgb_model.predict(X_test)\n",
    "y_prob = xgb_model.predict_proba(X_test)[:, 1]\n",
    "\n",
    "print(\"Classification Report:\")\n",
    "print(classification_report(y_test, y_pred))\n",
    "\n",
    "print(\"ROC AUC Score:\", roc_auc_score(y_test, y_prob))\n",
    "\n",
    "y_prob_all = xgb_model.predict_proba(df_model[features])[:, 1]\n",
    "df_model = df_model.copy()\n",
    "df_model['predicted_goal_prob'] = y_prob_all\n",
    "\n",
    "importance_dict = xgb_model.get_booster().get_score(importance_type='gain')\n",
    "\n",
    "importance_df = pd.DataFrame.from_dict(importance_dict, orient='index', columns=['importance'])\n",
    "importance_df = importance_df.reset_index().rename(columns={'index': 'feature'})\n",
    "importance_df = importance_df.sort_values(by='importance', ascending=False)\n",
    "\n",
    "plt.figure(figsize=(10, 6))\n",
    "plt.barh(importance_df['feature'][:20][::-1], importance_df['importance'][:20][::-1])\n",
    "plt.xlabel('Importance (gain)')\n",
    "plt.title('Top 20 Feature Importances - XGBoost (Scoring Model)')\n",
    "plt.tight_layout()\n",
    "plt.show()"
   ]
  },
  {
   "attachments": {},
   "cell_type": "markdown",
   "metadata": {},
   "source": [
    "And analogously for the conceding probabilities."
   ]
  },
  {
   "cell_type": "code",
   "execution_count": 88,
   "metadata": {},
   "outputs": [
    {
     "name": "stdout",
     "output_type": "stream",
     "text": [
      "Classification Report (Conceding Goals):\n",
      "              precision    recall  f1-score   support\n",
      "\n",
      "           0       1.00      1.00      1.00     70428\n",
      "           1       0.00      0.00      0.00       132\n",
      "\n",
      "    accuracy                           1.00     70560\n",
      "   macro avg       0.50      0.50      0.50     70560\n",
      "weighted avg       1.00      1.00      1.00     70560\n",
      "\n",
      "ROC AUC Score (Conceding Goals): 0.8170398825535987\n"
     ]
    }
   ],
   "source": [
    "df_model = df_model.dropna(subset=features + [target_opponent])\n",
    "\n",
    "X_opp = df_model[features]\n",
    "y_opp = df_model[target_opponent]\n",
    "\n",
    "X_train_opp, X_test_opp, y_train_opp, y_test_opp = train_test_split(\n",
    "    X_opp, y_opp, test_size=0.5, stratify=y_opp\n",
    ")\n",
    "\n",
    "model_opp = XGBClassifier(\n",
    "    n_estimators=100,\n",
    "    max_depth=3,\n",
    "    learning_rate=0.1,\n",
    "    eval_metric='logloss',\n",
    "    random_state=42\n",
    ")\n",
    "\n",
    "model_opp.fit(X_train_opp, y_train_opp)\n",
    "\n",
    "y_pred_opp = model_opp.predict(X_test_opp)\n",
    "y_prob_opp = model_opp.predict_proba(X_test_opp)[:, 1]\n",
    "\n",
    "print(\"Classification Report (Conceding Goals):\")\n",
    "print(classification_report(y_test_opp, y_pred_opp))\n",
    "print(\"ROC AUC Score (Conceding Goals):\", roc_auc_score(y_test_opp, y_prob_opp))\n",
    "\n",
    "df_model = df_model.copy()\n",
    "df_model['predicted_concede_prob'] = model_opp.predict_proba(X_opp)[:, 1]"
   ]
  },
  {
   "attachments": {},
   "cell_type": "markdown",
   "metadata": {},
   "source": [
    "### Computing Action Values ###\n",
    "\n",
    "Now we can calculate the action value as the sum of differences in scoring and conceding probabilities between subsequent game states. We need to consider two special cases though:\n",
    "\n",
    "1. When a shot ends up in a goal the next state value will be set to 1. Works analogously for an own goal.\n",
    "2. When possession changes after an action, the probabilities are switched in the next state, because the scoring and conceding probabilities always        correspond to the team performing the action."
   ]
  },
  {
   "cell_type": "code",
   "execution_count": 89,
   "metadata": {},
   "outputs": [],
   "source": [
    "df_model['action_value'] = 0.0\n",
    "\n",
    "for match_id, df_match in df_model.groupby('match_id', sort=False):\n",
    "    idxs = df_match.index.to_list()\n",
    "\n",
    "    for i in range(len(idxs) - 1):\n",
    "        idx_current = idxs[i]\n",
    "        idx_next = idxs[i + 1]\n",
    "\n",
    "        current_team = df_model.at[idx_current, 'team_id']\n",
    "        next_team = df_model.at[idx_next, 'team_id']\n",
    "\n",
    "        score_curr = df_model.at[idx_current, 'predicted_goal_prob']\n",
    "        concede_curr = df_model.at[idx_current, 'predicted_concede_prob']\n",
    "\n",
    "        score_next = df_model.at[idx_next, 'predicted_goal_prob']\n",
    "        concede_next = df_model.at[idx_next, 'predicted_concede_prob']\n",
    "\n",
    "        goal_scored = (\n",
    "            df_model.at[idx_current, 'type_name'] == 'Shot' and\n",
    "            df_model.at[idx_current, 'outcome_name'] == 'Goal'\n",
    "        )\n",
    "\n",
    "        own_goal_scored = (\n",
    "            df_model.at[idx_current, 'type_name'] == 'Own Goal Against'\n",
    "        )\n",
    "\n",
    "        if goal_scored:\n",
    "            score_next = 1.0\n",
    "            concede_next = 0.0\n",
    "        elif own_goal_scored:\n",
    "            score_next = 0.0\n",
    "            concede_next = 1.0\n",
    "\n",
    "        if next_team != current_team and not goal_scored and not own_goal_scored:\n",
    "            score_next, concede_next = concede_next, score_next\n",
    "\n",
    "        delta_score = score_next - score_curr\n",
    "        delta_concede = concede_curr - concede_next\n",
    "        action_value = delta_score + delta_concede\n",
    "\n",
    "        df_model.at[idx_current, 'action_value'] = action_value"
   ]
  },
  {
   "cell_type": "code",
   "execution_count": 90,
   "metadata": {},
   "outputs": [],
   "source": [
    "test = df_model[['id', 'match_id', 'timestamp', 'period', 'x', 'y', 'distance_to_goal', 'angle_to_goal', 'player_name', 'possession_team_name', 'team_name',\n",
    "     'type_name', 'play_pattern_name', 'outcome_name', 'label_team_goal', 'label_opponent_goal', 'predicted_goal_prob', 'predicted_concede_prob',\n",
    "     'body_part_name', 'action_type', 'sub_type_name', 'result', 'action_value']]\n",
    "\n",
    "df_model[\n",
    "    ['id', 'match_id', 'timestamp', 'x', 'y', 'distance_to_goal', 'angle_to_goal', 'player_name', 'possession_team_name', 'team_name',\n",
    "     'type_name', 'play_pattern_name', 'outcome_name', 'label_team_goal', 'label_opponent_goal', 'predicted_goal_prob', 'predicted_concede_prob',\n",
    "     'body_part_name', 'action_type', 'sub_type_name', 'result', 'action_value']\n",
    "].to_csv(\"data/data.csv\", index=False)\n",
    "\n",
    "df_model.to_pickle(\"data/data_cleaned_trained.pkl\")"
   ]
  },
  {
   "attachments": {},
   "cell_type": "markdown",
   "metadata": {},
   "source": [
    "We can now rank players according to their cumulated action values."
   ]
  },
  {
   "cell_type": "code",
   "execution_count": 91,
   "metadata": {},
   "outputs": [
    {
     "name": "stdout",
     "output_type": "stream",
     "text": [
      "     player_id                              player_name  action_value\n",
      "6       3009.0                     Kylian Mbappé Lottin      5.876300\n",
      "160     5503.0           Lionel Andrés Messi Cuccittini      3.673353\n",
      "422    20750.0                        Cody Mathès Gakpo      3.369564\n",
      "116     5204.0            Bruno Miguel Borges Fernandes      2.676039\n",
      "436    22084.0                              Bukayo Saka      2.499656\n",
      "296     8361.0                               Ritsu Doan      2.292091\n",
      "158     5487.0                        Antoine Griezmann      2.239920\n",
      "245     6704.0          Theo Bernard François Hernández      2.176726\n",
      "412    18395.0  Vinícius José Paixão de Oliveira Júnior      2.067989\n",
      "507    29560.0                           Julián Álvarez      2.005961\n",
      "5       2995.0          Ángel Fabián Di María Hernández      1.871899\n",
      "504    29163.0                          Josip Juranović      1.870355\n",
      "339    11174.0                   Vincent Paté Aboubakar      1.803416\n",
      "40      3318.0                          Marcus Rashford      1.800886\n",
      "119     5209.0           Raphaël Adelino José Guerreiro      1.686973\n",
      "61      3533.0                          Xherdan Shaqiri      1.659300\n",
      "411    18360.0          Rafael Alexandre Conceição Leão      1.582183\n",
      "499    28825.0             Luis Gerardo Chávez Magallón      1.544813\n",
      "206     5660.0                          Piotr Zieliński      1.536283\n",
      "111     5187.0                Salem Mohammed Al Dawsari      1.487265\n",
      "143     5258.0  Giorgian Daniel De Arrascaeta Benedetti      1.427827\n",
      "279     7829.0                            Wout Weghorst      1.393855\n",
      "315     8966.0                              Kai Havertz      1.285899\n",
      "399    16527.0                             Mislav Oršić      1.281879\n",
      "332    10595.0                     Raphael Dias Belloli      1.219469\n",
      "570    38803.0                     Gonçalo Matias Ramos      1.205305\n",
      "134     5235.0                           Ramin Rezaeian      1.202287\n",
      "135     5237.0                             Hakim Ziyech      1.200476\n",
      "52      3477.0               Álvaro Borja Morata Martín      1.194590\n",
      "295     8346.0                            Craig Goodwin      1.178111\n"
     ]
    }
   ],
   "source": [
    "top_players_df = df_model.groupby(['player_id', 'player_name'])['action_value'].sum().reset_index()\n",
    "top_players_df = top_players_df.sort_values(by='action_value', ascending=False)\n",
    "print(top_players_df.head(30))"
   ]
  },
  {
   "attachments": {},
   "cell_type": "markdown",
   "metadata": {},
   "source": [
    "TODO:\n",
    "1. paper checken target variable\n",
    "2. minuten zusammenrechnen\n",
    "3. feld visualisierung\n",
    "4. enhanced features (pressure, goalkeeper position)\n",
    "5. synchronisierung event data + frames\n",
    "6. modelle testen + ausprobieren\n",
    "7. Beispiele aussuchen"
   ]
  }
 ],
 "metadata": {
  "kernelspec": {
   "display_name": "Python 3",
   "language": "python",
   "name": "python3"
  },
  "language_info": {
   "codemirror_mode": {
    "name": "ipython",
    "version": 3
   },
   "file_extension": ".py",
   "mimetype": "text/x-python",
   "name": "python",
   "nbconvert_exporter": "python",
   "pygments_lexer": "ipython3",
   "version": "3.12.4"
  },
  "orig_nbformat": 4
 },
 "nbformat": 4,
 "nbformat_minor": 2
}
