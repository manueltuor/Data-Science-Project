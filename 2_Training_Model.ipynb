{
 "cells": [
  {
   "attachments": {},
   "cell_type": "markdown",
   "metadata": {},
   "source": [
    "## Model Training ##\n",
    "\n",
    "The second part of our project is about training models to estimate scoring and conceding probabilities, and deriving the action values from those.\n",
    "\n",
    "First we will load the data. If you have not already you should run the 1_Loading_Data.ipynb file to retrieve the data and save it to a file, so that it can be loaded here."
   ]
  },
  {
   "cell_type": "code",
   "execution_count": 1,
   "metadata": {},
   "outputs": [
    {
     "name": "stderr",
     "output_type": "stream",
     "text": [
      "/var/folders/s2/7mg4b_pd5ll8g1dtps8vvxqh0000gn/T/ipykernel_12802/4069085423.py:8: DtypeWarning: Columns (61,71,74,77,78,81,83,86,87,88) have mixed types. Specify dtype option on import or set low_memory=False.\n",
      "  df_model = pd.read_csv(\"data_cleaned.csv\")\n"
     ]
    }
   ],
   "source": [
    "import pandas as pd\n",
    "from xgboost import XGBClassifier\n",
    "import matplotlib.pyplot as plt\n",
    "from sklearn.linear_model import LogisticRegression\n",
    "from sklearn.model_selection import train_test_split\n",
    "from sklearn.metrics import classification_report, roc_auc_score\n",
    "\n",
    "df_model = pd.read_csv(\"data_cleaned.csv\")"
   ]
  },
  {
   "attachments": {},
   "cell_type": "markdown",
   "metadata": {},
   "source": [
    "### Encoding ###\n",
    "\n",
    "Some classification algorithms like logistic regression require us to encode categorical columns like action_type or body_part. So we will do this via one-hot encoding."
   ]
  },
  {
   "cell_type": "code",
   "execution_count": 2,
   "metadata": {},
   "outputs": [],
   "source": [
    "body_part_dummies = pd.get_dummies(df_model['body_part_name'], prefix='body_part_name')\n",
    "action_type_dummies = pd.get_dummies(df_model['action_type'], prefix='action_type')\n",
    "\n",
    "df_model = pd.concat([df_model, body_part_dummies, action_type_dummies], axis=1)"
   ]
  },
  {
   "attachments": {},
   "cell_type": "markdown",
   "metadata": {},
   "source": [
    "### Estimating Probabilities ###\n",
    "\n",
    "#### Logistic Regression ####\n",
    "\n",
    "Now we can train our first logistic regression model to try and predict the two labels based on our features."
   ]
  },
  {
   "cell_type": "code",
   "execution_count": 3,
   "metadata": {},
   "outputs": [
    {
     "name": "stdout",
     "output_type": "stream",
     "text": [
      "Classification Report:\n",
      "              precision    recall  f1-score   support\n",
      "\n",
      "           0       0.99      1.00      0.99     22532\n",
      "           1       0.67      0.02      0.03       244\n",
      "\n",
      "    accuracy                           0.99     22776\n",
      "   macro avg       0.83      0.51      0.51     22776\n",
      "weighted avg       0.99      0.99      0.98     22776\n",
      "\n",
      "ROC AUC Score: 0.7862807322481979\n",
      "                  Coefficient\n",
      "distance_to_goal    -0.045083\n",
      "angle_to_goal        0.033502\n",
      "time_elapsed         0.000092\n",
      "period               0.023240\n"
     ]
    }
   ],
   "source": [
    "features = ['distance_to_goal', 'angle_to_goal', 'time_elapsed', 'period']\n",
    "\n",
    "target = 'label_team_goal'\n",
    "\n",
    "df_model = df_model.dropna(subset=features + [target])\n",
    "\n",
    "X = df_model[features]\n",
    "y = df_model[target]\n",
    "\n",
    "X_train, X_test, y_train, y_test = train_test_split(X, y, test_size=0.2, random_state=42)\n",
    "\n",
    "model = LogisticRegression()\n",
    "model.fit(X_train, y_train)\n",
    "\n",
    "y_pred = model.predict(X_test)\n",
    "y_prob = model.predict_proba(X_test)[:, 1]\n",
    "\n",
    "print(\"Classification Report:\")\n",
    "print(classification_report(y_test, y_pred))\n",
    "\n",
    "print(\"ROC AUC Score:\", roc_auc_score(y_test, y_prob))\n",
    "\n",
    "y_prob_all = model.predict_proba(df_model[features])[:, 1]\n",
    "df_model = df_model.copy()\n",
    "df_model['predicted_goal_prob'] = y_prob_all\n",
    "\n",
    "coefficients = model.coef_[0]\n",
    "\n",
    "coeff_df = pd.DataFrame(coefficients, columns=[\"Coefficient\"], index=features)\n",
    "print(coeff_df)"
   ]
  },
  {
   "attachments": {},
   "cell_type": "markdown",
   "metadata": {},
   "source": [
    "And analogously the same for the conceding probabilities."
   ]
  },
  {
   "cell_type": "code",
   "execution_count": 4,
   "metadata": {},
   "outputs": [
    {
     "name": "stdout",
     "output_type": "stream",
     "text": [
      "Classification Report (Conceding Goals):\n",
      "              precision    recall  f1-score   support\n",
      "\n",
      "           0       1.00      1.00      1.00     22742\n",
      "           1       0.00      0.00      0.00        34\n",
      "\n",
      "    accuracy                           1.00     22776\n",
      "   macro avg       0.50      0.50      0.50     22776\n",
      "weighted avg       1.00      1.00      1.00     22776\n",
      "\n",
      "ROC AUC Score (Conceding Goals): 0.7425028581479203\n",
      "                  Coefficient\n",
      "distance_to_goal     0.032176\n",
      "angle_to_goal        0.047969\n",
      "time_elapsed         0.000140\n",
      "period               0.034016\n"
     ]
    },
    {
     "name": "stderr",
     "output_type": "stream",
     "text": [
      "/Library/Frameworks/Python.framework/Versions/3.12/lib/python3.12/site-packages/sklearn/metrics/_classification.py:1565: UndefinedMetricWarning: Precision is ill-defined and being set to 0.0 in labels with no predicted samples. Use `zero_division` parameter to control this behavior.\n",
      "  _warn_prf(average, modifier, f\"{metric.capitalize()} is\", len(result))\n",
      "/Library/Frameworks/Python.framework/Versions/3.12/lib/python3.12/site-packages/sklearn/metrics/_classification.py:1565: UndefinedMetricWarning: Precision is ill-defined and being set to 0.0 in labels with no predicted samples. Use `zero_division` parameter to control this behavior.\n",
      "  _warn_prf(average, modifier, f\"{metric.capitalize()} is\", len(result))\n",
      "/Library/Frameworks/Python.framework/Versions/3.12/lib/python3.12/site-packages/sklearn/metrics/_classification.py:1565: UndefinedMetricWarning: Precision is ill-defined and being set to 0.0 in labels with no predicted samples. Use `zero_division` parameter to control this behavior.\n",
      "  _warn_prf(average, modifier, f\"{metric.capitalize()} is\", len(result))\n"
     ]
    }
   ],
   "source": [
    "target_opponent = 'label_opponent_goal'\n",
    "\n",
    "X_opp = df_model[features]\n",
    "y_opp = df_model[target_opponent]\n",
    "\n",
    "X_train_opp, X_test_opp, y_train_opp, y_test_opp = train_test_split(X_opp, y_opp, test_size=0.2, random_state=42)\n",
    "\n",
    "model_opp = LogisticRegression()\n",
    "model_opp.fit(X_train_opp, y_train_opp)\n",
    "\n",
    "y_pred_opp = model_opp.predict(X_test_opp)\n",
    "y_prob_opp = model_opp.predict_proba(X_test_opp)[:, 1]\n",
    "\n",
    "print(\"Classification Report (Conceding Goals):\")\n",
    "print(classification_report(y_test_opp, y_pred_opp))\n",
    "\n",
    "print(\"ROC AUC Score (Conceding Goals):\", roc_auc_score(y_test_opp, y_prob_opp))\n",
    "\n",
    "y_prob_all_opp = model_opp.predict_proba(df_model[features])[:, 1]\n",
    "df_model = df_model.copy()\n",
    "df_model['predicted_concede_prob'] = y_prob_all_opp\n",
    "\n",
    "coefficients_opp = model_opp.coef_[0]\n",
    "coeff_opp_df = pd.DataFrame(coefficients_opp, index=features, columns=[\"Coefficient\"])\n",
    "print(coeff_opp_df)"
   ]
  },
  {
   "attachments": {},
   "cell_type": "markdown",
   "metadata": {},
   "source": [
    "#### XGBoost ####\n",
    "\n",
    "Since some of the features are non-linear, XGBoost will probably perform better."
   ]
  },
  {
   "cell_type": "code",
   "execution_count": 5,
   "metadata": {},
   "outputs": [
    {
     "name": "stdout",
     "output_type": "stream",
     "text": [
      "Classification Report:\n",
      "              precision    recall  f1-score   support\n",
      "\n",
      "           0       0.99      1.00      0.99     22532\n",
      "           1       0.67      0.02      0.03       244\n",
      "\n",
      "    accuracy                           0.99     22776\n",
      "   macro avg       0.83      0.51      0.51     22776\n",
      "weighted avg       0.99      0.99      0.98     22776\n",
      "\n",
      "ROC AUC Score: 0.8387140838676068\n"
     ]
    },
    {
     "data": {
      "image/png": "[encoded data removed]",
      "text/plain": [
       "<Figure size 1000x600 with 1 Axes>"
      ]
     },
     "metadata": {},
     "output_type": "display_data"
    }
   ],
   "source": [
    "features = ['distance_to_goal', 'angle_to_goal', 'time_elapsed', 'period',\n",
    "        'body_part_name_Foot', 'body_part_name_Head', 'body_part_name_Other',\n",
    "        'action_type_Ball Recovery', 'action_type_Carry',\n",
    "        'action_type_Clearance', 'action_type_Corner', 'action_type_Foul',\n",
    "        'action_type_Free Kick Pass', 'action_type_Free Kick Shot',\n",
    "        'action_type_Goal Kick', 'action_type_Interception',\n",
    "        'action_type_Miscontrol', 'action_type_Own Goal', 'action_type_Pass',\n",
    "        'action_type_Penalty Shot', 'action_type_Shot', 'action_type_Tackle',\n",
    "        'action_type_Throw In',]\n",
    "\n",
    "df_model = df_model.dropna(subset=features + [target])\n",
    "\n",
    "X = df_model[features]\n",
    "y = df_model[target]\n",
    "\n",
    "X_train, X_test, y_train, y_test = train_test_split(X, y, test_size=0.2, random_state=42)\n",
    "\n",
    "xgb_model = XGBClassifier(\n",
    "    n_estimators=100,\n",
    "    max_depth=3,\n",
    "    learning_rate=0.1,\n",
    "    eval_metric='logloss',\n",
    "    random_state=42\n",
    ")\n",
    "\n",
    "xgb_model.fit(X_train, y_train)\n",
    "\n",
    "y_pred = xgb_model.predict(X_test)\n",
    "y_prob = xgb_model.predict_proba(X_test)[:, 1]\n",
    "\n",
    "print(\"Classification Report:\")\n",
    "print(classification_report(y_test, y_pred))\n",
    "\n",
    "print(\"ROC AUC Score:\", roc_auc_score(y_test, y_prob))\n",
    "\n",
    "y_prob_all = xgb_model.predict_proba(df_model[features])[:, 1]\n",
    "df_model = df_model.copy()\n",
    "df_model['predicted_goal_prob'] = y_prob_all\n",
    "\n",
    "importance_dict = xgb_model.get_booster().get_score(importance_type='gain')\n",
    "\n",
    "importance_df = pd.DataFrame.from_dict(importance_dict, orient='index', columns=['importance'])\n",
    "importance_df = importance_df.reset_index().rename(columns={'index': 'feature'})\n",
    "importance_df = importance_df.sort_values(by='importance', ascending=False)\n",
    "\n",
    "plt.figure(figsize=(10, 6))\n",
    "plt.barh(importance_df['feature'][:20][::-1], importance_df['importance'][:20][::-1])\n",
    "plt.xlabel('Importance (gain)')\n",
    "plt.title('Top 20 Feature Importances - XGBoost (Scoring Model)')\n",
    "plt.tight_layout()\n",
    "plt.show()"
   ]
  },
  {
   "attachments": {},
   "cell_type": "markdown",
   "metadata": {},
   "source": [
    "And analogously for the conceding probabilities."
   ]
  },
  {
   "cell_type": "code",
   "execution_count": 6,
   "metadata": {},
   "outputs": [
    {
     "name": "stdout",
     "output_type": "stream",
     "text": [
      "Classification Report (Conceding Goals):\n",
      "              precision    recall  f1-score   support\n",
      "\n",
      "           0       1.00      1.00      1.00     22742\n",
      "           1       0.00      0.00      0.00        34\n",
      "\n",
      "    accuracy                           1.00     22776\n",
      "   macro avg       0.50      0.50      0.50     22776\n",
      "weighted avg       1.00      1.00      1.00     22776\n",
      "\n",
      "ROC AUC Score (Conceding Goals): 0.8729831304608732\n"
     ]
    },
    {
     "name": "stderr",
     "output_type": "stream",
     "text": [
      "/Library/Frameworks/Python.framework/Versions/3.12/lib/python3.12/site-packages/sklearn/metrics/_classification.py:1565: UndefinedMetricWarning: Precision is ill-defined and being set to 0.0 in labels with no predicted samples. Use `zero_division` parameter to control this behavior.\n",
      "  _warn_prf(average, modifier, f\"{metric.capitalize()} is\", len(result))\n",
      "/Library/Frameworks/Python.framework/Versions/3.12/lib/python3.12/site-packages/sklearn/metrics/_classification.py:1565: UndefinedMetricWarning: Precision is ill-defined and being set to 0.0 in labels with no predicted samples. Use `zero_division` parameter to control this behavior.\n",
      "  _warn_prf(average, modifier, f\"{metric.capitalize()} is\", len(result))\n",
      "/Library/Frameworks/Python.framework/Versions/3.12/lib/python3.12/site-packages/sklearn/metrics/_classification.py:1565: UndefinedMetricWarning: Precision is ill-defined and being set to 0.0 in labels with no predicted samples. Use `zero_division` parameter to control this behavior.\n",
      "  _warn_prf(average, modifier, f\"{metric.capitalize()} is\", len(result))\n"
     ]
    }
   ],
   "source": [
    "df_model = df_model.dropna(subset=features + [target_opponent])\n",
    "\n",
    "X_opp = df_model[features]\n",
    "y_opp = df_model[target_opponent]\n",
    "\n",
    "X_train_opp, X_test_opp, y_train_opp, y_test_opp = train_test_split(\n",
    "    X_opp, y_opp, test_size=0.2, random_state=42\n",
    ")\n",
    "\n",
    "model_opp = XGBClassifier(\n",
    "    n_estimators=100,\n",
    "    max_depth=3,\n",
    "    learning_rate=0.1,\n",
    "    eval_metric='logloss',\n",
    "    random_state=42\n",
    ")\n",
    "\n",
    "model_opp.fit(X_train_opp, y_train_opp)\n",
    "\n",
    "y_pred_opp = model_opp.predict(X_test_opp)\n",
    "y_prob_opp = model_opp.predict_proba(X_test_opp)[:, 1]\n",
    "\n",
    "print(\"Classification Report (Conceding Goals):\")\n",
    "print(classification_report(y_test_opp, y_pred_opp))\n",
    "print(\"ROC AUC Score (Conceding Goals):\", roc_auc_score(y_test_opp, y_prob_opp))\n",
    "\n",
    "df_model = df_model.copy()\n",
    "df_model['predicted_concede_prob'] = model_opp.predict_proba(X_opp)[:, 1]"
   ]
  },
  {
   "attachments": {},
   "cell_type": "markdown",
   "metadata": {},
   "source": [
    "### Computing Action Values ###\n",
    "\n",
    "Now we can calculate the action value as the sum of differences in scoring and conceding probabilities between subsequent game states. We need to consider two special cases though:\n",
    "\n",
    "1. When a shot ends up in a goal the next state value will be set to 1. Works analogously for an own goal.\n",
    "2. When possession changes after an action, the probabilities are switched in the next state, because the scoring and conceding probabilities always        correspond to the team performing the action."
   ]
  },
  {
   "cell_type": "code",
   "execution_count": 7,
   "metadata": {},
   "outputs": [],
   "source": [
    "df_model['action_value'] = 0.0\n",
    "\n",
    "for match_id, df_match in df_model.groupby('match_id', sort=False):\n",
    "    idxs = df_match.index.to_list()\n",
    "\n",
    "    for i in range(len(idxs) - 1):\n",
    "        idx_current = idxs[i]\n",
    "        idx_next = idxs[i + 1]\n",
    "\n",
    "        current_team = df_model.at[idx_current, 'team_id']\n",
    "        next_team = df_model.at[idx_next, 'team_id']\n",
    "\n",
    "        score_curr = df_model.at[idx_current, 'predicted_goal_prob']\n",
    "        concede_curr = df_model.at[idx_current, 'predicted_concede_prob']\n",
    "\n",
    "        score_next = df_model.at[idx_next, 'predicted_goal_prob']\n",
    "        concede_next = df_model.at[idx_next, 'predicted_concede_prob']\n",
    "\n",
    "        goal_scored = (\n",
    "            df_model.at[idx_current, 'type_name'] == 'Shot' and\n",
    "            df_model.at[idx_current, 'outcome_name'] == 'Goal'\n",
    "        )\n",
    "\n",
    "        own_goal_scored = (\n",
    "            df_model.at[idx_current, 'type_name'] == 'Own Goal Against'\n",
    "        )\n",
    "\n",
    "        if goal_scored:\n",
    "            score_next = 1.0\n",
    "            concede_next = 0.0\n",
    "        elif own_goal_scored:\n",
    "            score_next = 0.0\n",
    "            concede_next = 1.0\n",
    "\n",
    "        if next_team != current_team and not goal_scored and not own_goal_scored:\n",
    "            score_next, concede_next = concede_next, score_next\n",
    "\n",
    "        delta_score = score_next - score_curr\n",
    "        delta_concede = concede_curr - concede_next\n",
    "        action_value = delta_score + delta_concede\n",
    "\n",
    "        df_model.at[idx_current, 'action_value'] = action_value"
   ]
  },
  {
   "cell_type": "code",
   "execution_count": 8,
   "metadata": {},
   "outputs": [],
   "source": [
    "test = df_model[['id', 'match_id', 'timestamp', 'period', 'x', 'y', 'distance_to_goal', 'angle_to_goal', 'player_name', 'possession_team_name', 'team_name',\n",
    "     'type_name', 'play_pattern_name', 'outcome_name', 'label_team_goal', 'label_opponent_goal', 'predicted_goal_prob', 'predicted_concede_prob',\n",
    "     'body_part_name', 'action_type', 'sub_type_name', 'result', 'action_value']]\n",
    "\n",
    "df_model[\n",
    "    ['id', 'match_id', 'timestamp', 'x', 'y', 'distance_to_goal', 'angle_to_goal', 'player_name', 'possession_team_name', 'team_name',\n",
    "     'type_name', 'play_pattern_name', 'outcome_name', 'label_team_goal', 'label_opponent_goal', 'predicted_goal_prob', 'predicted_concede_prob',\n",
    "     'body_part_name', 'action_type', 'sub_type_name', 'result', 'action_value']\n",
    "].to_csv(\"data.csv\", index=False)"
   ]
  },
  {
   "attachments": {},
   "cell_type": "markdown",
   "metadata": {},
   "source": [
    "We can now rank players according to their cumulated action values."
   ]
  },
  {
   "cell_type": "code",
   "execution_count": 9,
   "metadata": {},
   "outputs": [
    {
     "name": "stdout",
     "output_type": "stream",
     "text": [
      "     player_id                          player_name  action_value\n",
      "96      5207.0  Cristiano Ronaldo dos Santos Aveiro      3.547413\n",
      "33      3382.0                            Luke Shaw      2.998147\n",
      "361    16554.0                         Joakim Mæhle      2.712753\n",
      "193     7037.0                      Lorenzo Insigne      2.624103\n",
      "141     5625.0                  Emil Peter Forsberg      2.488362\n",
      "45      3533.0                      Xherdan Shaqiri      2.415597\n",
      "201     7156.0                      Federico Chiesa      2.333523\n",
      "148     5668.0                   Robert Lewandowski      1.968066\n",
      "99      5211.0                     Jordi Alba Ramos      1.946899\n",
      "109     5474.0                         Ivan Perišić      1.898468\n",
      "143     5632.0                       Thorgan Hazard      1.801453\n",
      "115     5487.0                    Antoine Griezmann      1.710938\n",
      "421    24443.0                     Mikkel Damsgaard      1.667487\n",
      "156     6302.0                       Kasper Dolberg      1.654364\n",
      "46      3567.0                  Georginio Wijnaldum      1.492276\n",
      "55      3655.0                     Andrew Robertson      1.474730\n",
      "382    19677.0                        Karim Benzema      1.470041\n",
      "364    16570.0                      Vladimír Coufal      1.454046\n",
      "122     5543.0                      Haris Seferović      1.444732\n",
      "169     6748.0                 Ferrán Torres García      1.443895\n",
      "196     7044.0                        Patrik Schick      1.430737\n",
      "66      4353.0                      Aymeric Laporte      1.414572\n",
      "23      3289.0                 Romelu Lukaku Menama      1.258416\n",
      "384    20004.0                           Paul Pogba      1.203036\n",
      "183     6985.0                         Robin Gosens      1.200482\n",
      "231     8220.0               David Olatukunbo Alaba      1.182290\n",
      "61      3957.0              César Azpilicueta Tanco      1.164035\n",
      "257     8830.0                    Andriy Yarmolenko      1.162792\n",
      "440    29989.0                         Yusuf Yazıcı      1.154568\n",
      "226     8125.0                      Denzel Dumfries      1.145408\n"
     ]
    }
   ],
   "source": [
    "top_players_df = df_model.groupby(['player_id', 'player_name'])['action_value'].sum().reset_index()\n",
    "top_players_df = top_players_df.sort_values(by='action_value', ascending=False)\n",
    "print(top_players_df.head(30))"
   ]
  }
 ],
 "metadata": {
  "kernelspec": {
   "display_name": "Python 3",
   "language": "python",
   "name": "python3"
  },
  "language_info": {
   "codemirror_mode": {
    "name": "ipython",
    "version": 3
   },
   "file_extension": ".py",
   "mimetype": "text/x-python",
   "name": "python",
   "nbconvert_exporter": "python",
   "pygments_lexer": "ipython3",
   "version": "3.12.4"
  },
  "orig_nbformat": 4
 },
 "nbformat": 4,
 "nbformat_minor": 2
}
